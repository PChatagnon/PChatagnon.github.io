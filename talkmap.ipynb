{
 "cells": [
  {
   "cell_type": "markdown",
   "metadata": {},
   "source": [
    "# Leaflet cluster map of talk locations\n",
    "\n",
    "Run this from the _talks/ directory, which contains .md files of all your talks. This scrapes the location YAML field from each .md file, geolocates it with geopy/Nominatim, and uses the getorg library to output data, HTML, and Javascript for a standalone cluster map."
   ]
  },
  {
   "cell_type": "code",
   "execution_count": 2,
   "metadata": {},
   "outputs": [
    {
     "name": "stdout",
     "output_type": "stream",
     "text": [
      "Defaulting to user installation because normal site-packages is not writeable\n",
      "Requirement already satisfied: getorg in /vol0/pierre/.local/lib/python3.6/site-packages (0.3.1)\n",
      "Requirement already satisfied: pygithub in /vol0/pierre/.local/lib/python3.6/site-packages (from getorg) (1.55)\n",
      "Requirement already satisfied: geopy in /vol0/pierre/.local/lib/python3.6/site-packages (from getorg) (2.2.0)\n",
      "Requirement already satisfied: retrying in /vol0/pierre/.local/lib/python3.6/site-packages (from getorg) (1.3.3)\n",
      "Requirement already satisfied: geographiclib<2,>=1.49 in /vol0/pierre/.local/lib/python3.6/site-packages (from geopy->getorg) (1.52)\n",
      "Requirement already satisfied: requests>=2.14.0 in /vol0/pierre/.local/lib/python3.6/site-packages (from pygithub->getorg) (2.27.1)\n",
      "Requirement already satisfied: deprecated in /vol0/pierre/.local/lib/python3.6/site-packages (from pygithub->getorg) (1.2.13)\n",
      "Requirement already satisfied: pyjwt>=2.0 in /vol0/pierre/.local/lib/python3.6/site-packages (from pygithub->getorg) (2.3.0)\n",
      "Requirement already satisfied: pynacl>=1.4.0 in /vol0/pierre/.local/lib/python3.6/site-packages (from pygithub->getorg) (1.5.0)\n",
      "Requirement already satisfied: six>=1.7.0 in /vol0/pierre/.local/lib/python3.6/site-packages (from retrying->getorg) (1.16.0)\n",
      "Requirement already satisfied: cffi>=1.4.1 in /vol0/pierre/.local/lib/python3.6/site-packages (from pynacl>=1.4.0->pygithub->getorg) (1.15.0)\n",
      "Requirement already satisfied: charset-normalizer~=2.0.0 in /vol0/pierre/.local/lib/python3.6/site-packages (from requests>=2.14.0->pygithub->getorg) (2.0.11)\n",
      "Requirement already satisfied: urllib3<1.27,>=1.21.1 in /vol0/pierre/.local/lib/python3.6/site-packages (from requests>=2.14.0->pygithub->getorg) (1.26.8)\n",
      "Requirement already satisfied: certifi>=2017.4.17 in /vol0/pierre/.local/lib/python3.6/site-packages (from requests>=2.14.0->pygithub->getorg) (2021.10.8)\n",
      "Requirement already satisfied: idna<4,>=2.5 in /vol0/pierre/.local/lib/python3.6/site-packages (from requests>=2.14.0->pygithub->getorg) (3.3)\n",
      "Requirement already satisfied: wrapt<2,>=1.10 in /vol0/pierre/.local/lib/python3.6/site-packages (from deprecated->pygithub->getorg) (1.13.3)\n",
      "Requirement already satisfied: pycparser in /vol0/pierre/.local/lib/python3.6/site-packages (from cffi>=1.4.1->pynacl>=1.4.0->pygithub->getorg) (2.21)\n"
     ]
    }
   ],
   "source": [
    "!pip install getorg --upgrade\n",
    "import glob\n",
    "import getorg\n",
    "from geopy import Nominatim"
   ]
  },
  {
   "cell_type": "code",
   "execution_count": 17,
   "metadata": {},
   "outputs": [],
   "source": [
    "g = glob.glob(\"_talks/*.md\")"
   ]
  },
  {
   "cell_type": "code",
   "execution_count": 12,
   "metadata": {},
   "outputs": [],
   "source": [
    "geocoder = Nominatim(user_agent=\"patate\")\n",
    "location_dict = {}\n",
    "location = \"\"\n",
    "permalink = \"\"\n",
    "title = \"\""
   ]
  },
  {
   "cell_type": "code",
   "execution_count": 18,
   "metadata": {},
   "outputs": [
    {
     "name": "stdout",
     "output_type": "stream",
     "text": [
      "---\n",
      "title: \"Talk 2 on Relevant Topic in Your Field\"\n",
      "collection: talks\n",
      "type: \"Talk\"\n",
      "permalink: /talks/2014-02-01-talk-2\n",
      "venue: \"London School of Testing\"\n",
      "date: 2014-02-01\n",
      "location: \"London, UK\"\n",
      "---\n",
      "\n",
      "[More information here](http://example2.com)\n",
      "\n",
      "This is a description of your talk, which is a markdown files that can be all markdown-ified like any other post. Yay markdown!\n",
      "\n",
      "London, UK \n",
      " London, Greater London, England, SW1A 2DX, United Kingdom\n",
      "---\n",
      "title: \"Conference Proceeding talk 3 on Relevant Topic in Your Field\"\n",
      "collection: talks\n",
      "type: \"Conference proceedings talk\"\n",
      "permalink: /talks/2014-03-01-talk-3\n",
      "venue: \"Testing Institute of America 2014 Annual Conference\"\n",
      "date: 2014-03-01\n",
      "location: \"Paris\"\n",
      "---\n",
      "\n",
      "This is a description of your conference proceedings talk, note the different field in type. You can put anything in this field.\n",
      "\n",
      "Paris \n",
      " Paris, Île-de-France, France métropolitaine, France\n",
      "---\n",
      "title: \"Tutorial Field\"\n",
      "collection: talks\n",
      "type: \"Tutorial\"\n",
      "permalink: /talks/2013-03-01-tutorial-1\n",
      "venue: \"UC-Berkeley Institute for Testing Science\"\n",
      "date: 2013-03-01\n",
      "location: \"Berkeley CA, USA\"\n",
      "---\n",
      "\n",
      "[More information here](http://exampleurl.com)\n",
      "\n",
      "This is a description of your tutorial, note the different field in type. This is a markdown files that can be all markdown-ified like any other post. Yay markdown\n",
      "\n",
      "Berkeley CA, USA \n",
      " University of California, Berkeley, Centennial Drive, Oakland, Alameda County, California, 94720-1076, United States\n",
      "---\n",
      "title: \"Conference Proceeding talk 3 on Relevant Topic in Your Field\"\n",
      "collection: talks\n",
      "type: \"Conference proceedings talk\"\n",
      "permalink: /talks/2014-03-01-talk-3\n",
      "venue: \"Testing Institute of America 2014 Annual Conference\"\n",
      "date: 2014-03-01\n",
      "location: \"Los Angeles, CA\"\n",
      "---\n",
      "\n",
      "This is a description of your conference proceedings talk, note the different field in type. You can put anything in this field.\n",
      "\n",
      "Los Angeles, CA \n",
      " Los Angeles, Los Angeles County, California, United States\n",
      "---\n",
      "title: \"Talk 1 on Relevant Topic in Your Field\"\n",
      "collection: talks\n",
      "type: \"Talk\"\n",
      "permalink: /talks/2012-03-01-talk-1\n",
      "venue: \"UC San Francisco, Department of Testing\"\n",
      "date: 2012-03-01\n",
      "location: \"Hawaii\"\n",
      "---\n",
      "\n",
      "This is a description of your talk, which is a markdown files that can be all markdown-ified like any other post. Yay markdown!\n",
      "\n",
      "Hawaii \n",
      " Hawaii, United States\n"
     ]
    }
   ],
   "source": [
    "\n",
    "for file in g:\n",
    "    with open(file, 'r') as f:\n",
    "        lines = f.read()\n",
    "        \n",
    "        print(lines)\n",
    "        \n",
    "        if lines.find('location: \"') > 1:\n",
    "            loc_start = lines.find('location: \"') + 11\n",
    "            lines_trim = lines[loc_start:]\n",
    "            loc_end = lines_trim.find('\"')\n",
    "            location = lines_trim[:loc_end]\n",
    "            \n",
    "            \n",
    "                            \n",
    "           \n",
    "        location_dict[location] = geocoder.geocode(location)\n",
    "        print(location, \"\\n\", location_dict[location])\n"
   ]
  },
  {
   "cell_type": "code",
   "execution_count": 19,
   "metadata": {},
   "outputs": [
    {
     "data": {
      "text/plain": [
       "'Written map to talkmap/'"
      ]
     },
     "execution_count": 19,
     "metadata": {},
     "output_type": "execute_result"
    }
   ],
   "source": [
    "m = getorg.orgmap.create_map_obj()\n",
    "getorg.orgmap.output_html_cluster_map(location_dict, folder_name=\"talkmap\", hashed_usernames=False)"
   ]
  },
  {
   "cell_type": "code",
   "execution_count": null,
   "metadata": {
    "collapsed": true
   },
   "outputs": [],
   "source": []
  }
 ],
 "metadata": {
  "anaconda-cloud": {},
  "kernelspec": {
   "display_name": "Python 3",
   "language": "python",
   "name": "python3"
  },
  "language_info": {
   "codemirror_mode": {
    "name": "ipython",
    "version": 3
   },
   "file_extension": ".py",
   "mimetype": "text/x-python",
   "name": "python",
   "nbconvert_exporter": "python",
   "pygments_lexer": "ipython3",
   "version": "3.6.13"
  }
 },
 "nbformat": 4,
 "nbformat_minor": 1
}
